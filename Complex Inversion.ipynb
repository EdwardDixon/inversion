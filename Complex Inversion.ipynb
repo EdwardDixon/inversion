{
 "cells": [
  {
   "cell_type": "markdown",
   "metadata": {},
   "source": [
    "# Lee says don't do it!\n",
    "What happens when we perform a complex inversion of the plane?  Lee warns not to use faces, except at Halloween.  \n",
    "Probably great advice, but we can never resist a big red button!"
   ]
  },
  {
   "cell_type": "code",
   "execution_count": 3,
   "metadata": {},
   "outputs": [
    {
     "name": "stdout",
     "output_type": "stream",
     "text": [
      "(2+4j)\n"
     ]
    }
   ],
   "source": [
    "import cmath\n",
    "\n",
    "def invert(z):\n",
    "    z_hat = 1 / complex(z.real, -1 * z.imag)\n",
    "    return (z_hat)\n",
    "\n",
    "print(invert(complex(0.1,0.2)))"
   ]
  },
  {
   "cell_type": "code",
   "execution_count": 4,
   "metadata": {},
   "outputs": [],
   "source": [
    "from PIL import Image\n",
    "img = Image.open(\"abbeylee_24_889.jpg\")"
   ]
  },
  {
   "cell_type": "code",
   "execution_count": 5,
   "metadata": {},
   "outputs": [
    {
     "data": {
      "text/plain": [
       "(372, 372)"
      ]
     },
     "execution_count": 5,
     "metadata": {},
     "output_type": "execute_result"
    }
   ],
   "source": [
    "img.size"
   ]
  },
  {
   "cell_type": "code",
   "execution_count": 6,
   "metadata": {},
   "outputs": [],
   "source": [
    "pixels = img.load()"
   ]
  },
  {
   "cell_type": "code",
   "execution_count": 8,
   "metadata": {},
   "outputs": [
    {
     "data": {
      "text/plain": [
       "(96, 68, 46)"
      ]
     },
     "execution_count": 8,
     "metadata": {},
     "output_type": "execute_result"
    }
   ],
   "source": [
    "pixels[0,0]"
   ]
  },
  {
   "cell_type": "code",
   "execution_count": 18,
   "metadata": {},
   "outputs": [],
   "source": [
    "import numpy as np\n",
    "scale = 3\n",
    "out_image = Image.new('RGB', (img.width, img.height))\n",
    "\n",
    "in_pixels = img.load()\n",
    "out_pixels = out_image.load()\n",
    "\n",
    "for i in range(0, img.width):\n",
    "    for j in range(0, img.height):\n",
    "        x = ((i - img.width/2) / img.width) * scale\n",
    "        y = ((j - img.height/2) / img.height) * scale\n",
    "        new_pos = invert(complex(x, y) + complex(0.0001, 0.0001))\n",
    "        x_hat = ((new_pos.real / scale) * img.width) + img.width/2\n",
    "        y_hat = ((new_pos.imag / scale) * img.height) + img.height/2\n",
    "        \n",
    "        if x_hat >= 0 and x_hat < out_image.width:\n",
    "            if y_hat >= 0 and y_hat < out_image.height:\n",
    "                out_pixels[x_hat, y_hat] = in_pixels[i,j]\n",
    "                \n",
    "out_image.save(\"inverted_face.jpg\")"
   ]
  },
  {
   "cell_type": "code",
   "execution_count": 22,
   "metadata": {},
   "outputs": [],
   "source": [
    "def invert_image(infile, outfile, scale=3):\n",
    "    img = Image.open(infile)\n",
    "    out_image = Image.new('RGB', (img.width, img.height))\n",
    "\n",
    "    in_pixels = img.load()\n",
    "    out_pixels = out_image.load()\n",
    "\n",
    "    for i in range(0, img.width):\n",
    "        for j in range(0, img.height):\n",
    "            x = ((i - img.width/2) / img.width) * scale\n",
    "            y = ((j - img.height/2) / img.height) * scale\n",
    "            new_pos = invert(complex(x, y) + complex(0.0001, 0.0001))\n",
    "            x_hat = ((new_pos.real / scale) * img.width) + img.width/2\n",
    "            y_hat = ((new_pos.imag / scale) * img.height) + img.height/2\n",
    "\n",
    "            if x_hat >= 0 and x_hat < out_image.width:\n",
    "                if y_hat >= 0 and y_hat < out_image.height:\n",
    "                    out_pixels[x_hat, y_hat] = in_pixels[i,j]\n",
    "\n",
    "    out_image.save(outfile)\n",
    "    \n",
    "invert_image('ed.jpg', 'ed_inverted.jpg', 10)"
   ]
  },
  {
   "cell_type": "code",
   "execution_count": 24,
   "metadata": {},
   "outputs": [],
   "source": [
    "def invert_image_2(infile, outfile, scale=3):\n",
    "    img = Image.open(infile)\n",
    "    out_image = Image.new('RGB', (img.width, img.height))\n",
    "\n",
    "    in_pixels = img.load()\n",
    "    out_pixels = out_image.load()\n",
    "\n",
    "    for i in range(0, img.width):\n",
    "        for j in range(0, img.height):\n",
    "            x = ((i - img.width/2) / img.width) * scale\n",
    "            y = ((j - img.height/2) / img.height) * scale\n",
    "            new_pos = invert(complex(x, y) + complex(0.0001, 0.0001))\n",
    "            x_hat = ((new_pos.real / scale) * img.width) + img.width/2\n",
    "            y_hat = ((new_pos.imag / scale) * img.height) + img.height/2\n",
    "\n",
    "            if x_hat >= 0 and x_hat < img.width:\n",
    "                if y_hat >= 0 and y_hat < img.height:\n",
    "                    out_pixels[i, j] = in_pixels[x_hat,y_hat]                    \n",
    "\n",
    "    out_image.save(outfile)\n",
    "    \n",
    "invert_image_2(\"abbeylee_24_889.jpg\", \"abbeylee_inverted_2.jpg\", 3)"
   ]
  },
  {
   "cell_type": "code",
   "execution_count": null,
   "metadata": {},
   "outputs": [],
   "source": []
  }
 ],
 "metadata": {
  "kernelspec": {
   "display_name": "Python 3",
   "language": "python",
   "name": "python3"
  },
  "language_info": {
   "codemirror_mode": {
    "name": "ipython",
    "version": 3
   },
   "file_extension": ".py",
   "mimetype": "text/x-python",
   "name": "python",
   "nbconvert_exporter": "python",
   "pygments_lexer": "ipython3",
   "version": "3.6.3"
  }
 },
 "nbformat": 4,
 "nbformat_minor": 2
}
