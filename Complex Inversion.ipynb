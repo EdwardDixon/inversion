{
 "cells": [
  {
   "cell_type": "markdown",
   "metadata": {},
   "source": [
    "# Lee says don't do it!\n",
    "What happens when we perform a complex inversion of the plane?  Lee warns not to use faces, except at Halloween.  \n",
    "Probably great advice, but we can never resist a big red button!"
   ]
  },
  {
   "cell_type": "code",
   "execution_count": 1,
   "metadata": {},
   "outputs": [
    {
     "name": "stdout",
     "output_type": "stream",
     "text": [
      "(2+4j)\n"
     ]
    }
   ],
   "source": [
    "import cmath\n",
    "\n",
    "def invert(z):\n",
    "    z_hat = 1 / complex(z.real, -1 * z.imag)\n",
    "    return (z_hat)\n",
    "\n",
    "print(invert(complex(0.1,0.2)))"
   ]
  },
  {
   "cell_type": "markdown",
   "metadata": {},
   "source": [
    "Got the maths straight - now let's try it out on an image..."
   ]
  },
  {
   "cell_type": "code",
   "execution_count": 2,
   "metadata": {},
   "outputs": [],
   "source": [
    "import numpy as np\n",
    "from PIL import Image\n",
    "\n",
    "def invert_image(infile, outfile, scale=3):\n",
    "    img = Image.open(infile)\n",
    "    out_image = Image.new('RGB', (img.width, img.height))\n",
    "\n",
    "    in_pixels = img.load()\n",
    "    out_pixels = out_image.load()\n",
    "\n",
    "    for i in range(0, img.width):\n",
    "        for j in range(0, img.height):\n",
    "            x = ((i - img.width/2) / img.width) * scale\n",
    "            y = ((j - img.height/2) / img.height) * scale\n",
    "            new_pos = invert(complex(x, y) + complex(0.0001, 0.0001))\n",
    "            x_hat = ((new_pos.real / scale) * img.width) + img.width/2\n",
    "            y_hat = ((new_pos.imag / scale) * img.height) + img.height/2\n",
    "\n",
    "            if x_hat >= 0 and x_hat < out_image.width:\n",
    "                if y_hat >= 0 and y_hat < out_image.height:\n",
    "                    out_pixels[x_hat, y_hat] = in_pixels[i,j]\n",
    "\n",
    "    out_image.save(outfile)"
   ]
  },
  {
   "cell_type": "markdown",
   "metadata": {},
   "source": [
    "Try your own image here!"
   ]
  },
  {
   "cell_type": "code",
   "execution_count": 3,
   "metadata": {},
   "outputs": [],
   "source": [
    "invert_image('abbeylee_24_889.jpg', 'abbeylee_inverted.jpg', 10)"
   ]
  },
  {
   "cell_type": "code",
   "execution_count": 49,
   "metadata": {},
   "outputs": [],
   "source": [
    "def animated_inversion(infile, outfile, scale=3.0, frames=30):\n",
    "    img = Image.open(infile)\n",
    "    out_image = Image.new('RGB', (img.width, img.height))\n",
    "    \n",
    "    in_pixels = img.load()\n",
    "    \n",
    "    for frame in range(0, frames):\n",
    "        out_image = Image.new('RGB', (img.width, img.height))\n",
    "        out_pixels = out_image.load()\n",
    "        \n",
    "        interp = ((frame + 1) / float(frames))\n",
    "        \n",
    "        for i in range(0, img.width):\n",
    "            for j in range(0, img.height):\n",
    "                x = ((i - img.width/2) / img.width) * scale\n",
    "                y = ((j - img.height/2) / img.height) * scale\n",
    "                \n",
    "                # We fudge a little to avoid the dreaded divide-by-zero\n",
    "                old_pos = complex(x, y) + complex(0.0001, 0.0001)\n",
    "                new_pos = invert(old_pos)\n",
    "                \n",
    "                # Animation by interpolation\n",
    "                move_vec = (new_pos - old_pos) * interp\n",
    "                new_pos = old_pos + move_vec\n",
    "                \n",
    "                x_hat = ((new_pos.real / scale) * img.width) + img.width/2\n",
    "                y_hat = ((new_pos.imag / scale) * img.height) + img.height/2\n",
    "\n",
    "                if x_hat >= 0 and x_hat < out_image.width:\n",
    "                    if y_hat >= 0 and y_hat < out_image.height:\n",
    "                        out_pixels[i,j] = in_pixels[x_hat,y_hat]\n",
    "                        \n",
    "        frame_path = outfile.split(\".\")[0] + \"_\" + str(frame) + \".jpg\"\n",
    "        print(\"Writing frame \" + str(frame + 1) + \" of \" + str(frames) + \" to \" + frame_path)\n",
    "        out_image.save(frame_path)"
   ]
  },
  {
   "cell_type": "code",
   "execution_count": 50,
   "metadata": {},
   "outputs": [
    {
     "name": "stdout",
     "output_type": "stream",
     "text": [
      "Writing frame 1 of 120 to abbeylee_inverted_0.jpg\n",
      "Writing frame 2 of 120 to abbeylee_inverted_1.jpg\n",
      "Writing frame 3 of 120 to abbeylee_inverted_2.jpg\n",
      "Writing frame 4 of 120 to abbeylee_inverted_3.jpg\n",
      "Writing frame 5 of 120 to abbeylee_inverted_4.jpg\n",
      "Writing frame 6 of 120 to abbeylee_inverted_5.jpg\n",
      "Writing frame 7 of 120 to abbeylee_inverted_6.jpg\n",
      "Writing frame 8 of 120 to abbeylee_inverted_7.jpg\n",
      "Writing frame 9 of 120 to abbeylee_inverted_8.jpg\n",
      "Writing frame 10 of 120 to abbeylee_inverted_9.jpg\n",
      "Writing frame 11 of 120 to abbeylee_inverted_10.jpg\n",
      "Writing frame 12 of 120 to abbeylee_inverted_11.jpg\n",
      "Writing frame 13 of 120 to abbeylee_inverted_12.jpg\n",
      "Writing frame 14 of 120 to abbeylee_inverted_13.jpg\n",
      "Writing frame 15 of 120 to abbeylee_inverted_14.jpg\n",
      "Writing frame 16 of 120 to abbeylee_inverted_15.jpg\n",
      "Writing frame 17 of 120 to abbeylee_inverted_16.jpg\n",
      "Writing frame 18 of 120 to abbeylee_inverted_17.jpg\n",
      "Writing frame 19 of 120 to abbeylee_inverted_18.jpg\n",
      "Writing frame 20 of 120 to abbeylee_inverted_19.jpg\n",
      "Writing frame 21 of 120 to abbeylee_inverted_20.jpg\n",
      "Writing frame 22 of 120 to abbeylee_inverted_21.jpg\n",
      "Writing frame 23 of 120 to abbeylee_inverted_22.jpg\n",
      "Writing frame 24 of 120 to abbeylee_inverted_23.jpg\n",
      "Writing frame 25 of 120 to abbeylee_inverted_24.jpg\n",
      "Writing frame 26 of 120 to abbeylee_inverted_25.jpg\n",
      "Writing frame 27 of 120 to abbeylee_inverted_26.jpg\n",
      "Writing frame 28 of 120 to abbeylee_inverted_27.jpg\n",
      "Writing frame 29 of 120 to abbeylee_inverted_28.jpg\n",
      "Writing frame 30 of 120 to abbeylee_inverted_29.jpg\n",
      "Writing frame 31 of 120 to abbeylee_inverted_30.jpg\n",
      "Writing frame 32 of 120 to abbeylee_inverted_31.jpg\n",
      "Writing frame 33 of 120 to abbeylee_inverted_32.jpg\n",
      "Writing frame 34 of 120 to abbeylee_inverted_33.jpg\n",
      "Writing frame 35 of 120 to abbeylee_inverted_34.jpg\n",
      "Writing frame 36 of 120 to abbeylee_inverted_35.jpg\n",
      "Writing frame 37 of 120 to abbeylee_inverted_36.jpg\n",
      "Writing frame 38 of 120 to abbeylee_inverted_37.jpg\n",
      "Writing frame 39 of 120 to abbeylee_inverted_38.jpg\n",
      "Writing frame 40 of 120 to abbeylee_inverted_39.jpg\n",
      "Writing frame 41 of 120 to abbeylee_inverted_40.jpg\n",
      "Writing frame 42 of 120 to abbeylee_inverted_41.jpg\n",
      "Writing frame 43 of 120 to abbeylee_inverted_42.jpg\n",
      "Writing frame 44 of 120 to abbeylee_inverted_43.jpg\n",
      "Writing frame 45 of 120 to abbeylee_inverted_44.jpg\n",
      "Writing frame 46 of 120 to abbeylee_inverted_45.jpg\n",
      "Writing frame 47 of 120 to abbeylee_inverted_46.jpg\n",
      "Writing frame 48 of 120 to abbeylee_inverted_47.jpg\n",
      "Writing frame 49 of 120 to abbeylee_inverted_48.jpg\n",
      "Writing frame 50 of 120 to abbeylee_inverted_49.jpg\n",
      "Writing frame 51 of 120 to abbeylee_inverted_50.jpg\n",
      "Writing frame 52 of 120 to abbeylee_inverted_51.jpg\n",
      "Writing frame 53 of 120 to abbeylee_inverted_52.jpg\n",
      "Writing frame 54 of 120 to abbeylee_inverted_53.jpg\n",
      "Writing frame 55 of 120 to abbeylee_inverted_54.jpg\n",
      "Writing frame 56 of 120 to abbeylee_inverted_55.jpg\n",
      "Writing frame 57 of 120 to abbeylee_inverted_56.jpg\n",
      "Writing frame 58 of 120 to abbeylee_inverted_57.jpg\n",
      "Writing frame 59 of 120 to abbeylee_inverted_58.jpg\n",
      "Writing frame 60 of 120 to abbeylee_inverted_59.jpg\n",
      "Writing frame 61 of 120 to abbeylee_inverted_60.jpg\n",
      "Writing frame 62 of 120 to abbeylee_inverted_61.jpg\n",
      "Writing frame 63 of 120 to abbeylee_inverted_62.jpg\n",
      "Writing frame 64 of 120 to abbeylee_inverted_63.jpg\n",
      "Writing frame 65 of 120 to abbeylee_inverted_64.jpg\n",
      "Writing frame 66 of 120 to abbeylee_inverted_65.jpg\n",
      "Writing frame 67 of 120 to abbeylee_inverted_66.jpg\n",
      "Writing frame 68 of 120 to abbeylee_inverted_67.jpg\n",
      "Writing frame 69 of 120 to abbeylee_inverted_68.jpg\n",
      "Writing frame 70 of 120 to abbeylee_inverted_69.jpg\n",
      "Writing frame 71 of 120 to abbeylee_inverted_70.jpg\n",
      "Writing frame 72 of 120 to abbeylee_inverted_71.jpg\n",
      "Writing frame 73 of 120 to abbeylee_inverted_72.jpg\n",
      "Writing frame 74 of 120 to abbeylee_inverted_73.jpg\n",
      "Writing frame 75 of 120 to abbeylee_inverted_74.jpg\n",
      "Writing frame 76 of 120 to abbeylee_inverted_75.jpg\n",
      "Writing frame 77 of 120 to abbeylee_inverted_76.jpg\n",
      "Writing frame 78 of 120 to abbeylee_inverted_77.jpg\n",
      "Writing frame 79 of 120 to abbeylee_inverted_78.jpg\n",
      "Writing frame 80 of 120 to abbeylee_inverted_79.jpg\n",
      "Writing frame 81 of 120 to abbeylee_inverted_80.jpg\n",
      "Writing frame 82 of 120 to abbeylee_inverted_81.jpg\n",
      "Writing frame 83 of 120 to abbeylee_inverted_82.jpg\n",
      "Writing frame 84 of 120 to abbeylee_inverted_83.jpg\n",
      "Writing frame 85 of 120 to abbeylee_inverted_84.jpg\n",
      "Writing frame 86 of 120 to abbeylee_inverted_85.jpg\n",
      "Writing frame 87 of 120 to abbeylee_inverted_86.jpg\n",
      "Writing frame 88 of 120 to abbeylee_inverted_87.jpg\n",
      "Writing frame 89 of 120 to abbeylee_inverted_88.jpg\n",
      "Writing frame 90 of 120 to abbeylee_inverted_89.jpg\n",
      "Writing frame 91 of 120 to abbeylee_inverted_90.jpg\n",
      "Writing frame 92 of 120 to abbeylee_inverted_91.jpg\n",
      "Writing frame 93 of 120 to abbeylee_inverted_92.jpg\n",
      "Writing frame 94 of 120 to abbeylee_inverted_93.jpg\n",
      "Writing frame 95 of 120 to abbeylee_inverted_94.jpg\n",
      "Writing frame 96 of 120 to abbeylee_inverted_95.jpg\n",
      "Writing frame 97 of 120 to abbeylee_inverted_96.jpg\n",
      "Writing frame 98 of 120 to abbeylee_inverted_97.jpg\n",
      "Writing frame 99 of 120 to abbeylee_inverted_98.jpg\n",
      "Writing frame 100 of 120 to abbeylee_inverted_99.jpg\n",
      "Writing frame 101 of 120 to abbeylee_inverted_100.jpg\n",
      "Writing frame 102 of 120 to abbeylee_inverted_101.jpg\n",
      "Writing frame 103 of 120 to abbeylee_inverted_102.jpg\n",
      "Writing frame 104 of 120 to abbeylee_inverted_103.jpg\n",
      "Writing frame 105 of 120 to abbeylee_inverted_104.jpg\n",
      "Writing frame 106 of 120 to abbeylee_inverted_105.jpg\n",
      "Writing frame 107 of 120 to abbeylee_inverted_106.jpg\n",
      "Writing frame 108 of 120 to abbeylee_inverted_107.jpg\n",
      "Writing frame 109 of 120 to abbeylee_inverted_108.jpg\n",
      "Writing frame 110 of 120 to abbeylee_inverted_109.jpg\n",
      "Writing frame 111 of 120 to abbeylee_inverted_110.jpg\n",
      "Writing frame 112 of 120 to abbeylee_inverted_111.jpg\n",
      "Writing frame 113 of 120 to abbeylee_inverted_112.jpg\n",
      "Writing frame 114 of 120 to abbeylee_inverted_113.jpg\n",
      "Writing frame 115 of 120 to abbeylee_inverted_114.jpg\n",
      "Writing frame 116 of 120 to abbeylee_inverted_115.jpg\n",
      "Writing frame 117 of 120 to abbeylee_inverted_116.jpg\n",
      "Writing frame 118 of 120 to abbeylee_inverted_117.jpg\n",
      "Writing frame 119 of 120 to abbeylee_inverted_118.jpg\n",
      "Writing frame 120 of 120 to abbeylee_inverted_119.jpg\n"
     ]
    }
   ],
   "source": [
    "animated_inversion('abbeylee_24_889.jpg', 'abbeylee_inverted.jpg', 3.0, 120)"
   ]
  },
  {
   "cell_type": "code",
   "execution_count": null,
   "metadata": {},
   "outputs": [],
   "source": []
  }
 ],
 "metadata": {
  "kernelspec": {
   "display_name": "Python 3",
   "language": "python",
   "name": "python3"
  },
  "language_info": {
   "codemirror_mode": {
    "name": "ipython",
    "version": 3
   },
   "file_extension": ".py",
   "mimetype": "text/x-python",
   "name": "python",
   "nbconvert_exporter": "python",
   "pygments_lexer": "ipython3",
   "version": "3.6.3"
  }
 },
 "nbformat": 4,
 "nbformat_minor": 2
}
