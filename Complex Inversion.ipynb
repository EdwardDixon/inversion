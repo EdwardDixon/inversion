{
 "cells": [
  {
   "cell_type": "markdown",
   "metadata": {},
   "source": [
    "# Lee says don't do it!\n",
    "What happens when we perform a complex inversion of the plane?  Lee warns not to use faces, except at Halloween.  \n",
    "Probably great advice, but we can never resist a big red button!"
   ]
  },
  {
   "cell_type": "code",
   "execution_count": 28,
   "metadata": {},
   "outputs": [
    {
     "name": "stdout",
     "output_type": "stream",
     "text": [
      "(2+4j)\n"
     ]
    }
   ],
   "source": [
    "import cmath\n",
    "\n",
    "def invert(z):\n",
    "    z_hat = 1 / complex(z.real, -1 * z.imag)\n",
    "    return (z_hat)\n",
    "\n",
    "print(invert(complex(0.1,0.2)))"
   ]
  },
  {
   "cell_type": "markdown",
   "metadata": {},
   "source": [
    "Got the maths straight - now let's try it out on an image..."
   ]
  },
  {
   "cell_type": "code",
   "execution_count": 31,
   "metadata": {},
   "outputs": [],
   "source": [
    "import numpy as np\n",
    "from PIL import Image\n",
    "\n",
    "def invert_image(infile, outfile, scale=3):\n",
    "    img = Image.open(infile)\n",
    "    out_image = Image.new('RGB', (img.width, img.height))\n",
    "\n",
    "    in_pixels = img.load()\n",
    "    out_pixels = out_image.load()\n",
    "\n",
    "    for i in range(0, img.width):\n",
    "        for j in range(0, img.height):\n",
    "            x = ((i - img.width/2) / img.width) * scale\n",
    "            y = ((j - img.height/2) / img.height) * scale\n",
    "            new_pos = invert(complex(x, y) + complex(0.0001, 0.0001))\n",
    "            x_hat = ((new_pos.real / scale) * img.width) + img.width/2\n",
    "            y_hat = ((new_pos.imag / scale) * img.height) + img.height/2\n",
    "\n",
    "            if x_hat >= 0 and x_hat < out_image.width:\n",
    "                if y_hat >= 0 and y_hat < out_image.height:\n",
    "                    out_pixels[x_hat, y_hat] = in_pixels[i,j]\n",
    "\n",
    "    out_image.save(outfile)"
   ]
  },
  {
   "cell_type": "markdown",
   "metadata": {},
   "source": [
    "Try your own image here!"
   ]
  },
  {
   "cell_type": "code",
   "execution_count": 30,
   "metadata": {},
   "outputs": [],
   "source": [
    "invert_image('abbeylee_24_889.jpg', 'abbeylee_inverted.jpg', 10)"
   ]
  },
  {
   "cell_type": "code",
   "execution_count": null,
   "metadata": {},
   "outputs": [],
   "source": []
  }
 ],
 "metadata": {
  "kernelspec": {
   "display_name": "Python 3",
   "language": "python",
   "name": "python3"
  },
  "language_info": {
   "codemirror_mode": {
    "name": "ipython",
    "version": 3
   },
   "file_extension": ".py",
   "mimetype": "text/x-python",
   "name": "python",
   "nbconvert_exporter": "python",
   "pygments_lexer": "ipython3",
   "version": "3.6.3"
  }
 },
 "nbformat": 4,
 "nbformat_minor": 2
}
